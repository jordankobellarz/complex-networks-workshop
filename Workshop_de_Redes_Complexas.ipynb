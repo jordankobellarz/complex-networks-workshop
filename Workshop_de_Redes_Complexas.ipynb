{
  "nbformat": 4,
  "nbformat_minor": 0,
  "metadata": {
    "colab": {
      "name": "Workshop de Redes Complexas",
      "provenance": [],
      "collapsed_sections": [],
      "toc_visible": true
    },
    "kernelspec": {
      "name": "python3",
      "display_name": "Python 3"
    }
  },
  "cells": [
    {
      "cell_type": "markdown",
      "metadata": {
        "id": "pvgMVZKgZc8P",
        "colab_type": "text"
      },
      "source": [
        "# Descomplicando as Redes Complexas\n",
        "\n",
        "**As redes complexas** são estruturas cruciais para entendermos como **sistemas complexos** são formados e seu comportamento. \n",
        "\n",
        "Exemplos não faltam: redes sociais online, redes de colaboração científica, coalisões políticas, ecossistemas biológicos, esquemas de votação, redes de terrorismo, interação entre componentes químicos, sistemas econômicos, redes de comunicação, comunidades de pessoas, cérebro humano, infraestruturas de telecomunicação e por aí vai.\n",
        "\n",
        "Aprender a **modelar, escolher o método certo, reportar resultados e dar escala** às suas análises são habilidades imprescindíveis na caixa de ferramentas de um cientista de dados. \n",
        "\n",
        "Como são muitas coisas para estudar, precisamos começar com passos de bebê. Por isso, nesse workshop **vamos aprender os 20% que precisamos para  resolver 80% dos problemas mais comuns que envolvem redes complexas**. \n",
        "\n",
        "Vamos visitar brevemente esses tópicos:\n",
        "* Teoria da complexidade;\n",
        "* Teoria de redes complexas;\n",
        "* Ferramentas de bancos de dados, análise e visualização de redes;\n",
        "* Modelagem, métricas e visualização de redes.\n",
        "\n",
        "Você vai aprender a:\n",
        "* Identificar se um sistema ou uma rede é complexo;\n",
        "* Modelar, extrair métricas e visualizar uma rede complexa.\n",
        "\n",
        "Convenções:\n",
        "* Se vc precisar de ajuda, clique no link [(ajuda)](#) ao lado da atividade para ir até a parte da documentação ou explicação. Use a ajuda somente em último caso! \n",
        "* Cada atividade pede que você dê uma resposta no formato de texto ou no formato de código. Você deve preencher os campos que estão marcados com \"**# TODO: sua resposta aqui**\" ou \"**# TODO: seu código aqui**\".\n",
        "\n",
        "Vamos começar!\n",
        "\n",
        "## Junte-se ao colega do seu lado!"
      ]
    },
    {
      "cell_type": "code",
      "metadata": {
        "id": "mtc3wnRkUOsa",
        "colab_type": "code",
        "colab": {
          "base_uri": "https://localhost:8080/",
          "height": 54
        },
        "outputId": "f4fc5442-ee32-4280-8bbd-a2bdefdc4386"
      },
      "source": [
        "from google.colab import drive\n",
        "drive.mount('/content/gdrive')"
      ],
      "execution_count": 73,
      "outputs": [
        {
          "output_type": "stream",
          "text": [
            "Drive already mounted at /content/gdrive; to attempt to forcibly remount, call drive.mount(\"/content/gdrive\", force_remount=True).\n"
          ],
          "name": "stdout"
        }
      ]
    },
    {
      "cell_type": "markdown",
      "metadata": {
        "id": "479lfgKEkAz7",
        "colab_type": "text"
      },
      "source": [
        "## Tarefa #1. Identificando a complexidade\n",
        "\n",
        "1. Qual destes sistemas é o mais complexo: o cérebro humano ou o sistema político de um país? Justifique."
      ]
    },
    {
      "cell_type": "code",
      "metadata": {
        "id": "u9-3i8--W2Tk",
        "colab_type": "code",
        "colab": {
          "base_uri": "https://localhost:8080/",
          "height": 34
        },
        "outputId": "f10413e6-9340-4061-f2a6-e2537525ed54"
      },
      "source": [
        "\"\"\"\n",
        "# TODO: sua resposta aqui\n",
        "\"\"\""
      ],
      "execution_count": 74,
      "outputs": [
        {
          "output_type": "execute_result",
          "data": {
            "text/plain": [
              "'\\n# TODO: sua resposta aqui\\n'"
            ]
          },
          "metadata": {
            "tags": []
          },
          "execution_count": 74
        }
      ]
    },
    {
      "cell_type": "markdown",
      "metadata": {
        "id": "TT9S1AB8ZIRk",
        "colab_type": "text"
      },
      "source": [
        "## Tarefa #2. Identificando uma rede complexa\n",
        "\n",
        "1. Identifique uma rede que você julga ser complexa - não vale repetir os exemplos! **Use a criatividade - escolha algo não óbvio e não trivial!!!**;\n",
        "2. Discuta com seu colega o motivo dessa rede ser complexa;\n",
        "3. Troque ideias com a dupla mais próxima sobre a rede identificada e o motivo dela ser complexa;\n",
        "4. Registre sua resposta e conclusões."
      ]
    },
    {
      "cell_type": "code",
      "metadata": {
        "id": "FeXGIPnxbuQ9",
        "colab_type": "code",
        "colab": {}
      },
      "source": [
        "\"\"\"\n",
        "# TODO: sua resposta aqui\n",
        "\"\"\""
      ],
      "execution_count": 0,
      "outputs": []
    },
    {
      "cell_type": "markdown",
      "metadata": {
        "colab_type": "text",
        "id": "0khJsbm1VsHW"
      },
      "source": [
        "## Tarefa #3. Conhecendo o NetworkX\n",
        "\n",
        "1. Leia atentamente a seção \"Overview of NetworkX\" na [documentação da biblioteca](https://networkx.github.io/documentation/stable/#overview-of-networkx);\n",
        "2. O que você entendeu sobre o NetworkX?\n",
        "\n",
        "\n",
        "\n"
      ]
    },
    {
      "cell_type": "code",
      "metadata": {
        "id": "bL_wtg0VbmQe",
        "colab_type": "code",
        "colab": {}
      },
      "source": [
        "\"\"\"\n",
        "# TODO: sua resposta aqui\n",
        "\"\"\""
      ],
      "execution_count": 0,
      "outputs": []
    },
    {
      "cell_type": "markdown",
      "metadata": {
        "id": "IbEiTGyxbziv",
        "colab_type": "text"
      },
      "source": [
        "3. O que não ficou claro sobre o NetworkX?"
      ]
    },
    {
      "cell_type": "code",
      "metadata": {
        "id": "2JcCWUmkcAs7",
        "colab_type": "code",
        "colab": {}
      },
      "source": [
        "\"\"\"\n",
        "# TODO: sua resposta aqui\n",
        "\"\"\""
      ],
      "execution_count": 0,
      "outputs": []
    },
    {
      "cell_type": "markdown",
      "metadata": {
        "id": "8BqlNj4dgz2j",
        "colab_type": "text"
      },
      "source": [
        "4. Importe a biblioteca do NetworkX [(ajuda)](https://networkx.github.io/documentation/stable/tutorial.html#creating-a-graph)"
      ]
    },
    {
      "cell_type": "code",
      "metadata": {
        "id": "DmClApQ_gzX9",
        "colab_type": "code",
        "colab": {}
      },
      "source": [
        "# TODO: seu código aqui"
      ],
      "execution_count": 0,
      "outputs": []
    },
    {
      "cell_type": "markdown",
      "metadata": {
        "id": "kw-BF3K0bbhC",
        "colab_type": "text"
      },
      "source": [
        "## Tarefa #4. Mapeando seus colegas\n",
        "\n",
        "Nas próximas atividades iremos montar uma rede com seus colegas de sala mais próximos.  \n",
        "\n",
        "1. Instancie um grafo não-direcionado [(ajuda)](https://networkx.github.io/documentation/stable/tutorial.html#creating-a-graph).\n"
      ]
    },
    {
      "cell_type": "code",
      "metadata": {
        "id": "lW4maeVBj_P2",
        "colab_type": "code",
        "colab": {}
      },
      "source": [
        "# TODO: seu código aqui"
      ],
      "execution_count": 0,
      "outputs": []
    },
    {
      "cell_type": "markdown",
      "metadata": {
        "id": "7xyfquwjhcqt",
        "colab_type": "text"
      },
      "source": [
        "2. Adicione um nó com label igual ao seu primeiro nome, incluindo o atributo \"age\" com sua idade. [(ajuda)](https://networkx.github.io/documentation/stable/reference/classes/generated/networkx.Graph.add_node.html?highlight=add_node#networkx.Graph.add_node)"
      ]
    },
    {
      "cell_type": "code",
      "metadata": {
        "id": "6d21R9kyj_l5",
        "colab_type": "code",
        "colab": {}
      },
      "source": [
        "# TODO: seu código aqui"
      ],
      "execution_count": 0,
      "outputs": []
    },
    {
      "cell_type": "markdown",
      "metadata": {
        "id": "YmUFX-BI9_5G",
        "colab_type": "text"
      },
      "source": [
        "3. Pergunte o nome das 4 pessoas mais próximas de você e coloque-as em sua vizinhança, incluindo um peso aleatório de 1 a 10 entre vocês. [(ajuda)](https://networkx.github.io/documentation/stable/reference/classes/generated/networkx.Graph.add_edge.html?highlight=add_edg#networkx-graph-add-edge)\n"
      ]
    },
    {
      "cell_type": "code",
      "metadata": {
        "id": "Ku7J00uR-I_6",
        "colab_type": "code",
        "colab": {}
      },
      "source": [
        "# TODO: seu código aqui"
      ],
      "execution_count": 0,
      "outputs": []
    },
    {
      "cell_type": "markdown",
      "metadata": {
        "id": "8fAICNUWKSRH",
        "colab_type": "text"
      },
      "source": [
        "4. Remova um nó de forma aleatória da sua rede (exceto seu próprio nó) [(ajuda)](https://networkx.github.io/documentation/stable/reference/classes/generated/networkx.Graph.remove_node.html?highlight=remove_node#networkx.Graph.remove_node)"
      ]
    },
    {
      "cell_type": "code",
      "metadata": {
        "id": "XKbSiTvhKf1-",
        "colab_type": "code",
        "colab": {}
      },
      "source": [
        "# TODO: seu código aqui"
      ],
      "execution_count": 0,
      "outputs": []
    },
    {
      "cell_type": "markdown",
      "metadata": {
        "id": "ntN4SierMVkB",
        "colab_type": "text"
      },
      "source": [
        "5. Imprima o número de nós em sua rede. [(ajuda)](https://networkx.github.io/documentation/stable/reference/classes/generated/networkx.Graph.number_of_nodes.html?highlight=number_of_nodes#networkx-graph-number-of-nodes)"
      ]
    },
    {
      "cell_type": "code",
      "metadata": {
        "id": "Bwx7kaX1MaSR",
        "colab_type": "code",
        "colab": {
          "base_uri": "https://localhost:8080/",
          "height": 34
        },
        "outputId": "00edaf5a-53e6-45b4-bcc6-56e2bd053922"
      },
      "source": [
        "# TODO: seu código aqui"
      ],
      "execution_count": 50,
      "outputs": [
        {
          "output_type": "execute_result",
          "data": {
            "text/plain": [
              "4"
            ]
          },
          "metadata": {
            "tags": []
          },
          "execution_count": 50
        }
      ]
    },
    {
      "cell_type": "markdown",
      "metadata": {
        "id": "5zIIqeRAM6Ek",
        "colab_type": "text"
      },
      "source": [
        "6. Imprima o número de arestas em sua rede. [(ajuda)](https://networkx.github.io/documentation/stable/reference/classes/generated/networkx.Graph.number_of_edges.html?highlight=number_of_edg)"
      ]
    },
    {
      "cell_type": "code",
      "metadata": {
        "id": "GdVpi3MwMppa",
        "colab_type": "code",
        "colab": {
          "base_uri": "https://localhost:8080/",
          "height": 34
        },
        "outputId": "fac402a8-1838-4193-db3a-946a14a7417f"
      },
      "source": [
        "# TODO: seu código aqui"
      ],
      "execution_count": 51,
      "outputs": [
        {
          "output_type": "execute_result",
          "data": {
            "text/plain": [
              "3"
            ]
          },
          "metadata": {
            "tags": []
          },
          "execution_count": 51
        }
      ]
    },
    {
      "cell_type": "markdown",
      "metadata": {
        "id": "jjHcQ4MpNzlt",
        "colab_type": "text"
      },
      "source": [
        "7. Imprima o grau do seu próprio nó. [(ajuda)](https://networkx.github.io/documentation/stable/reference/classes/generated/networkx.Graph.degree.html?highlight=degree#networkx.Graph.degree)"
      ]
    },
    {
      "cell_type": "code",
      "metadata": {
        "id": "LdIUF9lcN3UC",
        "colab_type": "code",
        "colab": {
          "base_uri": "https://localhost:8080/",
          "height": 34
        },
        "outputId": "78c040c5-913c-464e-f1d4-ef60f10d8eb5"
      },
      "source": [
        "# TODO: seu código aqui"
      ],
      "execution_count": 52,
      "outputs": [
        {
          "output_type": "execute_result",
          "data": {
            "text/plain": [
              "3"
            ]
          },
          "metadata": {
            "tags": []
          },
          "execution_count": 52
        }
      ]
    },
    {
      "cell_type": "markdown",
      "metadata": {
        "id": "_iCufDDgQK5E",
        "colab_type": "text"
      },
      "source": [
        "8. Gere uma visualização da sua rede. [(ajuda)](https://networkx.github.io/documentation/stable/tutorial.html#drawing-graphs)\n",
        "\n"
      ]
    },
    {
      "cell_type": "code",
      "metadata": {
        "id": "TdijqVDlQGnl",
        "colab_type": "code",
        "colab": {
          "base_uri": "https://localhost:8080/",
          "height": 370
        },
        "outputId": "a4c9922c-f8c2-417a-c687-c4fa704e908c"
      },
      "source": [
        "# TODO: seu código aqui"
      ],
      "execution_count": 59,
      "outputs": [
        {
          "output_type": "execute_result",
          "data": {
            "text/plain": [
              "{('Jordan', 'Carlos'): Text(0.2727208125594235, -0.22514236915163097, '8'),\n",
              " ('Jordan', 'João'): Text(-0.3064957660261204, -0.32963576089183744, '2'),\n",
              " ('Jordan', 'Maria'): Text(0.08957948147727465, 0.44522186995653146, '1')}"
            ]
          },
          "metadata": {
            "tags": []
          },
          "execution_count": 59
        },
        {
          "output_type": "display_data",
          "data": {
            "image/png": "[encoded data removed]",
            "text/plain": [
              "<Figure size 432x288 with 1 Axes>"
            ]
          },
          "metadata": {
            "tags": []
          }
        }
      ]
    },
    {
      "cell_type": "markdown",
      "metadata": {
        "id": "5fNq0r4rQPmU",
        "colab_type": "text"
      },
      "source": [
        "9. Exporte sua rede para o formato GRAPHML."
      ]
    },
    {
      "cell_type": "code",
      "metadata": {
        "id": "AEn245zZQO3A",
        "colab_type": "code",
        "colab": {}
      },
      "source": [
        "# TODO: seu código aqui"
      ],
      "execution_count": 0,
      "outputs": []
    },
    {
      "cell_type": "markdown",
      "metadata": {
        "id": "TIfOThJTgVCa",
        "colab_type": "text"
      },
      "source": [
        "## Tarefa #5. Modelando um sistema de recomendação\n",
        "\n",
        "Suponha que nossa sala de aula é uma rede social online, na qual pessoas com interesses similares se juntam em grupos de discussão.\n",
        "\n",
        "Nessa tarefa, seu objetivo é encontrar pessoas com interesses similares, de forma que seja possível recomendar automaticamente a elas que participem de um mesmo grupo. \n",
        "\n",
        "1. Como você modelaria uma rede para encontrar pessoas com interesses similares? Defina o tipo de rede que você irá montar: \n",
        "* direcionada ou não direcionada?\n",
        "* com peso ou sem peso?\n",
        "* sem partição, bipartida ou outro?"
      ]
    },
    {
      "cell_type": "code",
      "metadata": {
        "id": "nlZYicPR_Z6Z",
        "colab_type": "code",
        "colab": {}
      },
      "source": [
        "\"\"\"\n",
        "# TODO: sua resposta aqui\n",
        "\"\"\""
      ],
      "execution_count": 0,
      "outputs": []
    },
    {
      "cell_type": "markdown",
      "metadata": {
        "id": "Rlyw_c-U_ejj",
        "colab_type": "text"
      },
      "source": [
        "2. O que os nós representariam na rede?"
      ]
    },
    {
      "cell_type": "code",
      "metadata": {
        "id": "z9yDL0cV_hVn",
        "colab_type": "code",
        "colab": {}
      },
      "source": [
        "\"\"\"\n",
        "# TODO: sua resposta aqui\n",
        "\"\"\""
      ],
      "execution_count": 0,
      "outputs": []
    },
    {
      "cell_type": "markdown",
      "metadata": {
        "id": "DDaR6-6d_iG_",
        "colab_type": "text"
      },
      "source": [
        "3. O que as arestas representariam na rede? Qual é seu significado?"
      ]
    },
    {
      "cell_type": "code",
      "metadata": {
        "id": "dpLqRqH1_jtd",
        "colab_type": "code",
        "colab": {}
      },
      "source": [
        "\"\"\"\n",
        "# TODO: sua resposta aqui\n",
        "\"\"\""
      ],
      "execution_count": 0,
      "outputs": []
    },
    {
      "cell_type": "markdown",
      "metadata": {
        "id": "3-S6mJt2LIb_",
        "colab_type": "text"
      },
      "source": [
        "## Tarefa #6. Modelando um esquema de votação\n",
        "\n",
        "Essa tarefa requer um pouco mais de esforço. Vamos lá!\n",
        "\n",
        "Suponha que iremos fazer uma votação dentro da sala para indicar a pessoa mais adequada para ganhar uma bolsa de estudo em Stanford. \n",
        "\n",
        "Para isso, será montado um esquema de votação seguindo as seguintes regras:\n",
        "* Todas as pessoas da sala são eleitoras e candidatas ao mesmo tempo;\n",
        "* Cada pessoa possui 10 \"fichas\" por turno para distribuir entre todas as outras pessoas da sala (exceto para ela mesma) até que acabem suas fichas - por exemplo, atribuindo 7 fichas para Fulano, 2 fichas para Ciclano e 1 ficha para Beltrano;\n",
        "* As votações serão feitas em 3 turnos, onde a cada turno serão eliminados 50% dos candidatos (os quais obtiveram menos votos no turno) - mesmo eliminados, todos devem continuar votando nos próximos turnos;\n",
        "* Vencerá o candidato com a maior quantidade de votos acumulados nos 3 turnos. \n",
        "\n",
        "\n",
        "1. Como você modelaria uma rede para representar esse esquema de votação? Defina o tipo de rede que você irá montar: \n",
        "* direcionada ou não direcionada?\n",
        "* com peso ou sem peso?\n",
        "* sem partição, bipartida ou outro?"
      ]
    },
    {
      "cell_type": "code",
      "metadata": {
        "colab_type": "code",
        "id": "TVfF_5NSABIw",
        "colab": {}
      },
      "source": [
        "\"\"\"\n",
        "# TODO: sua resposta aqui\n",
        "\"\"\""
      ],
      "execution_count": 0,
      "outputs": []
    },
    {
      "cell_type": "markdown",
      "metadata": {
        "colab_type": "text",
        "id": "EUxP35sQABI9"
      },
      "source": [
        "2. O que os nós representariam na rede?"
      ]
    },
    {
      "cell_type": "code",
      "metadata": {
        "colab_type": "code",
        "id": "BG_pOMnyABJA",
        "colab": {}
      },
      "source": [
        "\"\"\"\n",
        "# TODO: sua resposta aqui\n",
        "\"\"\""
      ],
      "execution_count": 0,
      "outputs": []
    },
    {
      "cell_type": "markdown",
      "metadata": {
        "colab_type": "text",
        "id": "yZ0MemJrABJG"
      },
      "source": [
        "3. O que as arestas representariam na rede? Qual é seu significado?"
      ]
    },
    {
      "cell_type": "code",
      "metadata": {
        "colab_type": "code",
        "id": "WRzxcAMWABJH",
        "colab": {}
      },
      "source": [
        "\"\"\"\n",
        "# TODO: sua resposta aqui\n",
        "\"\"\""
      ],
      "execution_count": 0,
      "outputs": []
    },
    {
      "cell_type": "markdown",
      "metadata": {
        "id": "5Arhmw3ZiBes",
        "colab_type": "text"
      },
      "source": [
        "## Tarefa #7. Analisando uma rede de retweets\n",
        "\n",
        "1. Baixe a rede de retweets [disponível aqui]();\n",
        "2. Importe e abra a rede de retweets no Gephi;\n",
        "3. Identifique e liste os atributos disponíveis nos nós e nas arestas;"
      ]
    },
    {
      "cell_type": "code",
      "metadata": {
        "id": "05XIxoVMKP3v",
        "colab_type": "code",
        "colab": {}
      },
      "source": [
        "\"\"\"\n",
        "# TODO: sua resposta aqui\n",
        "\"\"\""
      ],
      "execution_count": 0,
      "outputs": []
    },
    {
      "cell_type": "markdown",
      "metadata": {
        "id": "wA_HawkYKQXr",
        "colab_type": "text"
      },
      "source": [
        "4. Calcule as métricas de closenness, betweenness e PageRank na rede;\n",
        "5. Quais são os nós com maior grau na rede? O que isso significa?"
      ]
    },
    {
      "cell_type": "code",
      "metadata": {
        "id": "xI9bu4DuLfXo",
        "colab_type": "code",
        "colab": {}
      },
      "source": [
        "\"\"\"\n",
        "# TODO: sua resposta aqui\n",
        "\"\"\""
      ],
      "execution_count": 0,
      "outputs": []
    },
    {
      "cell_type": "markdown",
      "metadata": {
        "id": "MOQODboOKnpZ",
        "colab_type": "text"
      },
      "source": [
        "6. Quais são os nós com maior centralidade de colenness na rede? O que isso significa?"
      ]
    },
    {
      "cell_type": "code",
      "metadata": {
        "id": "zmPGcW5hKpcl",
        "colab_type": "code",
        "colab": {}
      },
      "source": [
        "\"\"\"\n",
        "# TODO: sua resposta aqui\n",
        "\"\"\""
      ],
      "execution_count": 0,
      "outputs": []
    },
    {
      "cell_type": "markdown",
      "metadata": {
        "id": "XxB9eWH1KqAb",
        "colab_type": "text"
      },
      "source": [
        "7. Quais são os nós com maior centralidade de betweenness na rede? O que isso significa?"
      ]
    },
    {
      "cell_type": "code",
      "metadata": {
        "id": "GKpt0WU-KsuS",
        "colab_type": "code",
        "colab": {}
      },
      "source": [
        "\"\"\"\n",
        "# TODO: sua resposta aqui\n",
        "\"\"\""
      ],
      "execution_count": 0,
      "outputs": []
    },
    {
      "cell_type": "markdown",
      "metadata": {
        "id": "LBQWdfhnKrpe",
        "colab_type": "text"
      },
      "source": [
        "8. Quais são os nós com maior centralidade de PageRank na rede? O que isso significa?"
      ]
    },
    {
      "cell_type": "code",
      "metadata": {
        "id": "oTS3BKBaKm_Z",
        "colab_type": "code",
        "colab": {}
      },
      "source": [
        "\"\"\"\n",
        "# TODO: sua resposta aqui\n",
        "\"\"\""
      ],
      "execution_count": 0,
      "outputs": []
    },
    {
      "cell_type": "markdown",
      "metadata": {
        "id": "gZ7XzmDITAic",
        "colab_type": "text"
      },
      "source": [
        "9. Rode o algoritmo de modularidade para identificar as comunidades na rede\n",
        "10. Quantas comunidades com mais de 500 nós foram encontradas? Qual é o motivo disso?"
      ]
    },
    {
      "cell_type": "code",
      "metadata": {
        "id": "vEGmumIDTDnK",
        "colab_type": "code",
        "colab": {
          "base_uri": "https://localhost:8080/",
          "height": 34
        },
        "outputId": "e3347f13-0ea0-43c0-aace-f888d43318e7"
      },
      "source": [
        "'''\n",
        "# TODO: sua resposta aqui\n",
        "'''"
      ],
      "execution_count": 72,
      "outputs": [
        {
          "output_type": "execute_result",
          "data": {
            "text/plain": [
              "'\\n# TODO: sua resposta aqui\\n'"
            ]
          },
          "metadata": {
            "tags": []
          },
          "execution_count": 72
        }
      ]
    },
    {
      "cell_type": "markdown",
      "metadata": {
        "id": "KfBn8arfKv0x",
        "colab_type": "text"
      },
      "source": [
        "## Tarefa #8. Visualizando a rede de retweets\n",
        "\n",
        "1. Pinte os nós de acordo com o atributo \"orientation\", sendo R azul, L vermelho e N preto;\n",
        "2. Configure o tamanho dos nós de acordo com a centralidade de betweenness, sendo o mínimo 10 e o máximo 100;\n",
        "3. Filtre a rede para remover os nós com grau menor que 5 e autoloops;\n",
        "4. Gere uma visualização usando o layout ForceAtlas2. Teste diferentes parâmetros;\n",
        "5. Gere uma visualização usando o layout radial. Teste diferentes parâmetros;\n",
        "6. O que você percebeu de diferença entre os algoritmos de geração de layout?"
      ]
    },
    {
      "cell_type": "code",
      "metadata": {
        "id": "7lul0EuMQxKe",
        "colab_type": "code",
        "colab": {}
      },
      "source": [
        ""
      ],
      "execution_count": 0,
      "outputs": []
    },
    {
      "cell_type": "markdown",
      "metadata": {
        "id": "Fd3usKy3Qxtx",
        "colab_type": "text"
      },
      "source": [
        "7. Exporte a visualização do seu grafo em um arquivo .svg."
      ]
    },
    {
      "cell_type": "markdown",
      "metadata": {
        "id": "2HHa3IayQkKZ",
        "colab_type": "text"
      },
      "source": [
        "## Tarefa Bônus: Analisando a rede com Networkx\n",
        "\n",
        "1. Importe o mesmo grafo que foi usado nas tarefas 7 e 8 usando o NetwrokX; \n",
        "2. Qual é o coeficiente de clusterização do usuário LulaOficial em comparação com o de Haddad_Fernando\n",
        "3. Qual é o coeficiente de clusterização da rede?"
      ]
    },
    {
      "cell_type": "code",
      "metadata": {
        "id": "PG_3E93sFBvY",
        "colab_type": "code",
        "colab": {}
      },
      "source": [
        ""
      ],
      "execution_count": 0,
      "outputs": []
    }
  ]
}